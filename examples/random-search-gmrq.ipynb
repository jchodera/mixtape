{
 "metadata": {
  "name": "",
  "signature": "sha256:fe4c21c0c33c7c10bd10cb8420dec43accd02971d42c31a639e1e3e8e5acf634"
 },
 "nbformat": 3,
 "nbformat_minor": 0,
 "worksheets": [
  {
   "cells": [
    {
     "cell_type": "code",
     "collapsed": false,
     "input": [
      "from mixtape.tica import tICA\n",
      "from mixtape.featurizer import DihedralFeaturizer\n",
      "from mixtape.markovstatemodel import MarkovStateModel\n",
      "from mixtape.cluster import KMeans, KCenters\n",
      "from sklearn.pipeline import Pipeline\n",
      "\n",
      "from hyperopt import hp\n",
      "from hyperopt.pyll.stochastic import sample\n",
      "from hyperopt.pyll import scope\n",
      "\n",
      "@scope.define\n",
      "def modelFactory(args):\n",
      "    klass = args.pop('class')\n",
      "    return klass(**args)\n",
      "@scope.define\n",
      "def pipelineFactory(args):\n",
      "    return Pipeline([(a.__class__.__name__, a) for a in args if a is not None])"
     ],
     "language": "python",
     "metadata": {},
     "outputs": [],
     "prompt_number": 1
    },
    {
     "cell_type": "code",
     "collapsed": false,
     "input": [
      "space = scope.pipelineFactory([\n",
      "    hp.choice('featurization', [\n",
      "        DihedralFeaturizer(['phi', 'psi'], sincos=True),\n",
      "        DihedralFeaturizer(['phi', 'psi', 'chi1'], sincos=True),\n",
      "    ]),\n",
      "    hp.choice('preprocessing', [\n",
      "        None,\n",
      "        scope.modelFactory({\n",
      "            'class': tICA,\n",
      "            'n_components': scope.int(hp.quniform('tica_n_components', 2, 20, 1)),\n",
      "            'gamma': hp.choice('tica_gamma', [0, 1e-7, 1e-5, 1e-3, 1e-1]),\n",
      "            'weighted_transform': hp.choice('tica_weighted_transform', [True, False])\n",
      "        })\n",
      "    ]),\n",
      "    hp.choice('cluster', [\n",
      "        scope.modelFactory({\n",
      "            'class': KMeans,\n",
      "            'n_clusters': scope.int(hp.quniform('kmeans_n_clusters', 10, 500, 10)),\n",
      "            'n_init': 1,\n",
      "        }),\n",
      "        scope.modelFactory({\n",
      "            'class': KCenters,\n",
      "            'n_clusters': scope.int(hp.quniform('kcenters_n_clusters', 10, 500, 10)),\n",
      "        }),\n",
      "    ]),\n",
      "    scope.modelFactory({\n",
      "        'class': MarkovStateModel,\n",
      "        'verbose': False,\n",
      "        'n_timescales': 3,\n",
      "        'reversible_type': 'transpose'\n",
      "    }),\n",
      "])"
     ],
     "language": "python",
     "metadata": {},
     "outputs": [],
     "prompt_number": 44
    },
    {
     "cell_type": "code",
     "collapsed": false,
     "input": [
      "from mixtape.datasets import fetch_met_enkephalin\n",
      "dataset = fetch_met_enkephalin()"
     ],
     "language": "python",
     "metadata": {},
     "outputs": [],
     "prompt_number": 45
    },
    {
     "cell_type": "code",
     "collapsed": false,
     "input": [
      "print dataset.DESCR"
     ],
     "language": "python",
     "metadata": {},
     "outputs": [
      {
       "output_type": "stream",
       "stream": "stdout",
       "text": [
        "Met-enkephalin dataset\n",
        "\n",
        "The dataset consists of ten ~50 ns molecular dynamics (MD) simulation\n",
        "trajectories of the 5 residue Met-enkaphalin peptide. The aggregate\n",
        "sampling is 499.58 ns. Simulations were performed starting from the 1st\n",
        "model in the 1PLX PDB file, solvated with 832 TIP3P water molecules using\n",
        "OpenMM 6.0. The coordinates (protein only -- the water was stripped)\n",
        "are saved every 5 picoseconds. Each of the ten trajectories is roughly\n",
        "50 ns long and contains about 10,000 snapshots.  \n",
        "\n",
        "Forcefield: amber99sb-ildn; water: tip3p; nonbonded method: PME; cutoffs:\n",
        "1nm; bonds to hydrogen were constrained; integrator: langevin dynamics;\n",
        "temperature: 300K; friction coefficient: 1.0/ps; pressure control: Monte\n",
        "Carlo barostat (interval of 25 steps); timestep 2 fs.\n",
        "\n",
        "The dataset is available on figshare at\n",
        "\n",
        "    http://dx.doi.org/10.6084/m9.figshare.1026324\n",
        "\n"
       ]
      }
     ],
     "prompt_number": 46
    },
    {
     "cell_type": "code",
     "collapsed": false,
     "input": [
      "import time\n",
      "from sklearn.cross_validation import KFold\n",
      "\n",
      "def fit_and_score(model, trajectories):\n",
      "    parameters = {k:v for k, v in model.get_params().items() if '__' in k}\n",
      "    train_scores, test_scores, fit_times = [], [], []\n",
      "    cv = KFold(len(trajectories), n_folds=3)\n",
      "    for fold, (train_index, test_index) in enumerate(cv):\n",
      "        train_data = [trajectories[i] for i in train_index]\n",
      "        test_data = [trajectories[i] for i in test_index]\n",
      "\n",
      "        start = time.time()\n",
      "        model.fit(train_data)\n",
      "        fit_times.append(time.time()-start)\n",
      "        train_scores.append(model.score(train_data))\n",
      "        test_scores.append(model.score(test_data))\n",
      "    return {'train_scores': train_scores, 'test_scores': test_scores,\n",
      "            'parameters': parameters, 'fit_times': fit_times}"
     ],
     "language": "python",
     "metadata": {},
     "outputs": [],
     "prompt_number": 47
    },
    {
     "cell_type": "code",
     "collapsed": false,
     "input": [
      "import json\n",
      "\n",
      "trajectories = [t for t in dataset.trajectories]\n",
      "\n",
      "for i in range(2):\n",
      "    with open('out.jsonl', 'a') as f:\n",
      "        results = fit_and_score(sample(space), trajectories)\n",
      "        f.write(json.dumps(results))\n",
      "        f.write('\\n')"
     ],
     "language": "python",
     "metadata": {},
     "outputs": [],
     "prompt_number": 48
    },
    {
     "cell_type": "code",
     "collapsed": false,
     "input": [],
     "language": "python",
     "metadata": {},
     "outputs": []
    }
   ],
   "metadata": {}
  }
 ]
}