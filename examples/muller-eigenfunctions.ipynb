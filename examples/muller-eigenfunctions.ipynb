{
 "metadata": {
  "name": "",
  "signature": "sha256:ea880de0f420f74752a8185086abcf4e1061ba9ce499bb7e919e0d69aafdfe1c"
 },
 "nbformat": 3,
 "nbformat_minor": 0,
 "worksheets": [
  {
   "cells": [
    {
     "cell_type": "markdown",
     "metadata": {},
     "source": [
      "This example examines the estimates of the estimators of the propagator eigenfunctions produced by tICA and MSMs\n",
      "using the Muller potential"
     ]
    },
    {
     "cell_type": "code",
     "collapsed": false,
     "input": [
      "import matplotlib.pyplot as pp\n",
      "from mixtape.cluster import KMeans\n",
      "from mixtape.markovstatemodel import MarkovStateModel\n",
      "from mixtape.tica import tICA\n",
      "from mixtape.datasets.muller import plot_muller\n",
      "from mixtape.datasets import load_muller"
     ],
     "language": "python",
     "metadata": {},
     "outputs": []
    },
    {
     "cell_type": "code",
     "collapsed": false,
     "input": [
      "dataset = load_muller(random_state=0)\n",
      "print dataset.DESCR"
     ],
     "language": "python",
     "metadata": {},
     "outputs": []
    },
    {
     "cell_type": "markdown",
     "metadata": {},
     "source": [
      "The 2D muller potential has three \"wells\", so we should expect three metastable states.\n",
      "Intuitively, we expect the first eigenfunction to model flux over the main bottleneck,\n",
      "and the second eigenfunction to model flux over the small barrier between the two wells\n",
      "on right bottom right."
     ]
    },
    {
     "cell_type": "code",
     "collapsed": false,
     "input": [
      "plot_muller()\n",
      "pp.show()"
     ],
     "language": "python",
     "metadata": {},
     "outputs": []
    },
    {
     "cell_type": "code",
     "collapsed": false,
     "input": [
      "def scatter_projection(z):\n",
      "    ctraj = np.concatenate(dataset.trajectories)\n",
      "    x, y = ctraj[:, 0], ctraj[:, 1]\n",
      "    pp.scatter(x[::5], y[::5], c=z[::5], s=50, alpha=1, edgecolor='None', cmap='RdBu')\n",
      "    pp.xlim(-1.5, 1.2)\n",
      "    pp.ylim(-0.2, 2)\n",
      "    pp.colorbar()"
     ],
     "language": "python",
     "metadata": {},
     "outputs": []
    },
    {
     "cell_type": "markdown",
     "metadata": {},
     "source": [
      "tICA and MSMs are both trying to find eigenfunctions of the propagator, but they use different restrictions. The tICA method is restricted to searching through the space of linear combinations of the input coordinates. For this (2D) potential, that means we're\n",
      "going to be finding functions of the form $\\psi \\approx ax + by$, which is quite restrictive.\n",
      "\n",
      "The MSM looks for eigenfunctions that are step-wise constant on the states used to fit the MSM, which can be determined by clustering, or other methods."
     ]
    },
    {
     "cell_type": "code",
     "collapsed": false,
     "input": [
      "tica = tICA(n_components=1)\n",
      "tica.fit(dataset.trajectories)\n",
      "# transform projects each data point onto the tics.\n",
      "transformed = tica.transform(dataset.trajectories)\n",
      "\n",
      "scatter_projection(np.concatenate(transformed))\n",
      "pp.title('1st tic')\n",
      "pp.show()"
     ],
     "language": "python",
     "metadata": {},
     "outputs": []
    },
    {
     "cell_type": "markdown",
     "metadata": {},
     "source": [
      "Now let's look at MSMs. We'll define the states using KMeans clustering, and then plot the first two right eigenfunctions."
     ]
    },
    {
     "cell_type": "code",
     "collapsed": false,
     "input": [
      "cluster = KMeans(n_clusters=10, n_init=1)\n",
      "msm = MarkovStateModel(verbose=False)\n",
      "assignments = cluster.fit_transform(dataset.trajectories)\n",
      "msm.fit(assignments)\n",
      "\n",
      "# eigtransform projects the data onto the eigenfunctions.\n",
      "transformed = msm.eigtransform(assignments)\n",
      "\n",
      "\n",
      "pp.figure(figsize=(12,4))\n",
      "pp.subplot(1,2,1)\n",
      "pp.title('1st msm dynamical eigenfunction')\n",
      "scatter_projection(np.concatenate(transformed)[:,0])\n",
      "\n",
      "pp.subplot(1,2,2)\n",
      "pp.title('2nd msm dynamical eigenfunction')\n",
      "scatter_projection(np.concatenate(transformed)[:,1])\n",
      "\n",
      "print msm.timescales_\n",
      "pp.show()"
     ],
     "language": "python",
     "metadata": {},
     "outputs": []
    },
    {
     "cell_type": "markdown",
     "metadata": {},
     "source": [
      "We can see that, as expected, the fist eigenfunction mostly separates the top well from the bottom well, whereas the\n",
      "second eigenfunction separates the bottom two wells."
     ]
    },
    {
     "cell_type": "code",
     "collapsed": false,
     "input": [],
     "language": "python",
     "metadata": {},
     "outputs": []
    }
   ],
   "metadata": {}
  }
 ]
}